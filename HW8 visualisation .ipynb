{
 "cells": [
  {
   "cell_type": "markdown",
   "id": "4eba9204",
   "metadata": {},
   "source": [
    "### Построить 5 графиков по выбранным данным. \n",
    "\n",
    "Графики должны быть различных видов и использовать хотя бы 2 из рассмотренных на занятии библиотек. \n",
    "\n",
    "Для каждого описать, какого типа переменные участвуют в визуализации, какова ее цель (например, посмотреть на корреляцию двух величин или на распределение значений) и почему выбрали именно такой тип графика.\n"
   ]
  },
  {
   "cell_type": "code",
   "execution_count": 6,
   "id": "31a722bb",
   "metadata": {},
   "outputs": [],
   "source": [
    "import pandas as pd\n",
    "import matplotlib.pyplot as plt"
   ]
  },
  {
   "cell_type": "markdown",
   "id": "12326fee",
   "metadata": {},
   "source": [
    "Возьмем датасет с информацией о игроках НБА и их колледжах."
   ]
  },
  {
   "cell_type": "code",
   "execution_count": 45,
   "id": "afa87192",
   "metadata": {},
   "outputs": [
    {
     "data": {
      "text/html": [
       "<div>\n",
       "<style scoped>\n",
       "    .dataframe tbody tr th:only-of-type {\n",
       "        vertical-align: middle;\n",
       "    }\n",
       "\n",
       "    .dataframe tbody tr th {\n",
       "        vertical-align: top;\n",
       "    }\n",
       "\n",
       "    .dataframe thead th {\n",
       "        text-align: right;\n",
       "    }\n",
       "</style>\n",
       "<table border=\"1\" class=\"dataframe\">\n",
       "  <thead>\n",
       "    <tr style=\"text-align: right;\">\n",
       "      <th></th>\n",
       "      <th>name</th>\n",
       "      <th>year_start</th>\n",
       "      <th>year_end</th>\n",
       "      <th>position</th>\n",
       "      <th>height</th>\n",
       "      <th>weight</th>\n",
       "      <th>birth_date</th>\n",
       "      <th>college</th>\n",
       "    </tr>\n",
       "  </thead>\n",
       "  <tbody>\n",
       "    <tr>\n",
       "      <th>0</th>\n",
       "      <td>Alaa Abdelnaby</td>\n",
       "      <td>1991</td>\n",
       "      <td>1995</td>\n",
       "      <td>F-C</td>\n",
       "      <td>6-10</td>\n",
       "      <td>240.0</td>\n",
       "      <td>June 24, 1968</td>\n",
       "      <td>Duke University</td>\n",
       "    </tr>\n",
       "    <tr>\n",
       "      <th>1</th>\n",
       "      <td>Zaid Abdul-Aziz</td>\n",
       "      <td>1969</td>\n",
       "      <td>1978</td>\n",
       "      <td>C-F</td>\n",
       "      <td>6-9</td>\n",
       "      <td>235.0</td>\n",
       "      <td>April 7, 1946</td>\n",
       "      <td>Iowa State University</td>\n",
       "    </tr>\n",
       "    <tr>\n",
       "      <th>2</th>\n",
       "      <td>Kareem Abdul-Jabbar</td>\n",
       "      <td>1970</td>\n",
       "      <td>1989</td>\n",
       "      <td>C</td>\n",
       "      <td>7-2</td>\n",
       "      <td>225.0</td>\n",
       "      <td>April 16, 1947</td>\n",
       "      <td>University of California, Los Angeles</td>\n",
       "    </tr>\n",
       "    <tr>\n",
       "      <th>3</th>\n",
       "      <td>Mahmoud Abdul-Rauf</td>\n",
       "      <td>1991</td>\n",
       "      <td>2001</td>\n",
       "      <td>G</td>\n",
       "      <td>6-1</td>\n",
       "      <td>162.0</td>\n",
       "      <td>March 9, 1969</td>\n",
       "      <td>Louisiana State University</td>\n",
       "    </tr>\n",
       "    <tr>\n",
       "      <th>4</th>\n",
       "      <td>Tariq Abdul-Wahad</td>\n",
       "      <td>1998</td>\n",
       "      <td>2003</td>\n",
       "      <td>F</td>\n",
       "      <td>6-6</td>\n",
       "      <td>223.0</td>\n",
       "      <td>November 3, 1974</td>\n",
       "      <td>San Jose State University</td>\n",
       "    </tr>\n",
       "  </tbody>\n",
       "</table>\n",
       "</div>"
      ],
      "text/plain": [
       "                  name  year_start  year_end position height  weight  \\\n",
       "0       Alaa Abdelnaby        1991      1995      F-C   6-10   240.0   \n",
       "1      Zaid Abdul-Aziz        1969      1978      C-F    6-9   235.0   \n",
       "2  Kareem Abdul-Jabbar        1970      1989        C    7-2   225.0   \n",
       "3   Mahmoud Abdul-Rauf        1991      2001        G    6-1   162.0   \n",
       "4    Tariq Abdul-Wahad        1998      2003        F    6-6   223.0   \n",
       "\n",
       "         birth_date                                college  \n",
       "0     June 24, 1968                        Duke University  \n",
       "1     April 7, 1946                  Iowa State University  \n",
       "2    April 16, 1947  University of California, Los Angeles  \n",
       "3     March 9, 1969             Louisiana State University  \n",
       "4  November 3, 1974              San Jose State University  "
      ]
     },
     "execution_count": 45,
     "metadata": {},
     "output_type": "execute_result"
    }
   ],
   "source": [
    "player_data = pd.read_csv('HW8 visualisation/player_data.csv')\n",
    "player_data.head()"
   ]
  },
  {
   "cell_type": "code",
   "execution_count": 46,
   "id": "ec017f3f",
   "metadata": {},
   "outputs": [
    {
     "name": "stdout",
     "output_type": "stream",
     "text": [
      "(4550, 8)\n"
     ]
    }
   ],
   "source": [
    "print(player_data.shape)"
   ]
  },
  {
   "cell_type": "code",
   "execution_count": 47,
   "id": "69b35bce",
   "metadata": {},
   "outputs": [
    {
     "name": "stdout",
     "output_type": "stream",
     "text": [
      "<class 'pandas.core.frame.DataFrame'>\n",
      "RangeIndex: 4550 entries, 0 to 4549\n",
      "Data columns (total 8 columns):\n",
      " #   Column      Non-Null Count  Dtype  \n",
      "---  ------      --------------  -----  \n",
      " 0   name        4550 non-null   object \n",
      " 1   year_start  4550 non-null   int64  \n",
      " 2   year_end    4550 non-null   int64  \n",
      " 3   position    4549 non-null   object \n",
      " 4   height      4549 non-null   object \n",
      " 5   weight      4544 non-null   float64\n",
      " 6   birth_date  4519 non-null   object \n",
      " 7   college     4248 non-null   object \n",
      "dtypes: float64(1), int64(2), object(5)\n",
      "memory usage: 284.5+ KB\n"
     ]
    }
   ],
   "source": [
    "player_data.info()"
   ]
  },
  {
   "cell_type": "code",
   "execution_count": 48,
   "id": "3e957b01",
   "metadata": {},
   "outputs": [
    {
     "name": "stdout",
     "output_type": "stream",
     "text": [
      "(4213, 8)\n"
     ]
    }
   ],
   "source": [
    "player_data = player_data.dropna()\n",
    "print(player_data.shape)"
   ]
  },
  {
   "cell_type": "markdown",
   "id": "57fdfed8",
   "metadata": {},
   "source": [
    "Построим столбчатую диаграмму распределения 10 универститетов, выпустивших наибольшее число игроков НБА. Используем столбцы колледж и имя, оба они относятся к качественным номинальным данным. Группируем данные по университетам, считаем количество имен по каждому университету. Имя из качественного показателя переходит в количественный. "
   ]
  },
  {
   "cell_type": "code",
   "execution_count": 55,
   "id": "790dda36",
   "metadata": {},
   "outputs": [
    {
     "data": {
      "text/html": [
       "<div>\n",
       "<style scoped>\n",
       "    .dataframe tbody tr th:only-of-type {\n",
       "        vertical-align: middle;\n",
       "    }\n",
       "\n",
       "    .dataframe tbody tr th {\n",
       "        vertical-align: top;\n",
       "    }\n",
       "\n",
       "    .dataframe thead th {\n",
       "        text-align: right;\n",
       "    }\n",
       "</style>\n",
       "<table border=\"1\" class=\"dataframe\">\n",
       "  <thead>\n",
       "    <tr style=\"text-align: right;\">\n",
       "      <th></th>\n",
       "      <th>name</th>\n",
       "    </tr>\n",
       "    <tr>\n",
       "      <th>college</th>\n",
       "      <th></th>\n",
       "    </tr>\n",
       "  </thead>\n",
       "  <tbody>\n",
       "    <tr>\n",
       "      <th>University of Kentucky</th>\n",
       "      <td>99</td>\n",
       "    </tr>\n",
       "    <tr>\n",
       "      <th>University of California, Los Angeles</th>\n",
       "      <td>91</td>\n",
       "    </tr>\n",
       "    <tr>\n",
       "      <th>University of North Carolina</th>\n",
       "      <td>86</td>\n",
       "    </tr>\n",
       "    <tr>\n",
       "      <th>Duke University</th>\n",
       "      <td>71</td>\n",
       "    </tr>\n",
       "    <tr>\n",
       "      <th>University of Kansas</th>\n",
       "      <td>71</td>\n",
       "    </tr>\n",
       "    <tr>\n",
       "      <th>Indiana University</th>\n",
       "      <td>60</td>\n",
       "    </tr>\n",
       "    <tr>\n",
       "      <th>University of Notre Dame</th>\n",
       "      <td>56</td>\n",
       "    </tr>\n",
       "    <tr>\n",
       "      <th>University of Louisville</th>\n",
       "      <td>55</td>\n",
       "    </tr>\n",
       "    <tr>\n",
       "      <th>University of Arizona</th>\n",
       "      <td>51</td>\n",
       "    </tr>\n",
       "    <tr>\n",
       "      <th>St. John's University</th>\n",
       "      <td>50</td>\n",
       "    </tr>\n",
       "  </tbody>\n",
       "</table>\n",
       "</div>"
      ],
      "text/plain": [
       "                                       name\n",
       "college                                    \n",
       "University of Kentucky                   99\n",
       "University of California, Los Angeles    91\n",
       "University of North Carolina             86\n",
       "Duke University                          71\n",
       "University of Kansas                     71\n",
       "Indiana University                       60\n",
       "University of Notre Dame                 56\n",
       "University of Louisville                 55\n",
       "University of Arizona                    51\n",
       "St. John's University                    50"
      ]
     },
     "execution_count": 55,
     "metadata": {},
     "output_type": "execute_result"
    }
   ],
   "source": [
    "player_college = player_data.groupby('college')[['name']].count()\\\n",
    "    .sort_values('name', ascending=False).head(10)\n",
    "    \n",
    "player_college\n"
   ]
  },
  {
   "cell_type": "code",
   "execution_count": 56,
   "id": "f74ee348",
   "metadata": {},
   "outputs": [
    {
     "data": {
      "text/plain": [
       "Text(0.5, 1.0, 'Top 10 Universities by Number of NBA Players')"
      ]
     },
     "execution_count": 56,
     "metadata": {},
     "output_type": "execute_result"
    },
    {
     "data": {
      "image/png": "[encoded data removed]",
      "text/plain": [
       "<Figure size 432x288 with 1 Axes>"
      ]
     },
     "metadata": {
      "needs_background": "light"
     },
     "output_type": "display_data"
    }
   ],
   "source": [
    "plt.barh(df['college'], df['name'])\n",
    "plt.xlabel('Quantity of names') \n",
    "plt.ylabel('College')\n",
    "plt.title('Top 10 Universities by Number of NBA Players')"
   ]
  },
  {
   "cell_type": "markdown",
   "id": "034a97bc",
   "metadata": {},
   "source": [
    "График наглядно показывает соотношение количества игроков по университетам. Видим, на сколько отличается топ 3 университетов от остальных."
   ]
  },
  {
   "cell_type": "code",
   "execution_count": null,
   "id": "5acc260e",
   "metadata": {},
   "outputs": [],
   "source": []
  },
  {
   "cell_type": "code",
   "execution_count": null,
   "id": "acd998b4",
   "metadata": {},
   "outputs": [],
   "source": []
  },
  {
   "cell_type": "code",
   "execution_count": null,
   "id": "35ff81fa",
   "metadata": {},
   "outputs": [],
   "source": []
  },
  {
   "cell_type": "markdown",
   "id": "34c579eb",
   "metadata": {},
   "source": [
    "Из предыдущего графика видно, что Университет Кентуки выпустил наибольшее количество игроков НБА. Построим столбчатую диаграмму сравнения позиций игроков за всю историю Кентуки. Используем столбец позиция - это качественные порядковые данные."
   ]
  },
  {
   "cell_type": "code",
   "execution_count": 68,
   "id": "3ddd57c3",
   "metadata": {},
   "outputs": [
    {
     "data": {
      "text/html": [
       "<div>\n",
       "<style scoped>\n",
       "    .dataframe tbody tr th:only-of-type {\n",
       "        vertical-align: middle;\n",
       "    }\n",
       "\n",
       "    .dataframe tbody tr th {\n",
       "        vertical-align: top;\n",
       "    }\n",
       "\n",
       "    .dataframe thead th {\n",
       "        text-align: right;\n",
       "    }\n",
       "</style>\n",
       "<table border=\"1\" class=\"dataframe\">\n",
       "  <thead>\n",
       "    <tr style=\"text-align: right;\">\n",
       "      <th></th>\n",
       "      <th>college</th>\n",
       "    </tr>\n",
       "    <tr>\n",
       "      <th>position</th>\n",
       "      <th></th>\n",
       "    </tr>\n",
       "  </thead>\n",
       "  <tbody>\n",
       "    <tr>\n",
       "      <th>G</th>\n",
       "      <td>41</td>\n",
       "    </tr>\n",
       "    <tr>\n",
       "      <th>F</th>\n",
       "      <td>26</td>\n",
       "    </tr>\n",
       "    <tr>\n",
       "      <th>C</th>\n",
       "      <td>9</td>\n",
       "    </tr>\n",
       "    <tr>\n",
       "      <th>C-F</th>\n",
       "      <td>9</td>\n",
       "    </tr>\n",
       "    <tr>\n",
       "      <th>G-F</th>\n",
       "      <td>7</td>\n",
       "    </tr>\n",
       "    <tr>\n",
       "      <th>F-C</th>\n",
       "      <td>4</td>\n",
       "    </tr>\n",
       "    <tr>\n",
       "      <th>F-G</th>\n",
       "      <td>3</td>\n",
       "    </tr>\n",
       "  </tbody>\n",
       "</table>\n",
       "</div>"
      ],
      "text/plain": [
       "          college\n",
       "position         \n",
       "G              41\n",
       "F              26\n",
       "C               9\n",
       "C-F             9\n",
       "G-F             7\n",
       "F-C             4\n",
       "F-G             3"
      ]
     },
     "execution_count": 68,
     "metadata": {},
     "output_type": "execute_result"
    }
   ],
   "source": [
    "player_data = player_data[player_data['college']=='University of Kentucky']\n",
    "\n",
    "position_barh = player_data.groupby('position')[['college']].count()\\\n",
    "    .sort_values('college', ascending=False)\n",
    "position_barh\n"
   ]
  },
  {
   "cell_type": "code",
   "execution_count": 67,
   "id": "b804daf3",
   "metadata": {},
   "outputs": [
    {
     "data": {
      "text/plain": [
       "Text(0.5, 1.0, 'Player positions')"
      ]
     },
     "execution_count": 67,
     "metadata": {},
     "output_type": "execute_result"
    },
    {
     "data": {
      "image/png": "[encoded data removed]",
      "text/plain": [
       "<Figure size 432x288 with 1 Axes>"
      ]
     },
     "metadata": {
      "needs_background": "light"
     },
     "output_type": "display_data"
    }
   ],
   "source": [
    "position_barh.plot(kind='bar')\n",
    "plt.title('Player positions')"
   ]
  },
  {
   "cell_type": "code",
   "execution_count": null,
   "id": "fd1eae79",
   "metadata": {},
   "outputs": [],
   "source": [
    "На графике видно, что Кентуки в основном выпускает защитников и форвардов."
   ]
  },
  {
   "cell_type": "code",
   "execution_count": null,
   "id": "28762fff",
   "metadata": {},
   "outputs": [],
   "source": []
  },
  {
   "cell_type": "code",
   "execution_count": null,
   "id": "77b895d2",
   "metadata": {},
   "outputs": [],
   "source": []
  },
  {
   "cell_type": "code",
   "execution_count": null,
   "id": "8430a9ea",
   "metadata": {},
   "outputs": [],
   "source": []
  },
  {
   "cell_type": "markdown",
   "id": "09f37b24",
   "metadata": {},
   "source": [
    "Возьмем датасет сезонной статистики НБА 1950 - 2017гг"
   ]
  },
  {
   "cell_type": "code",
   "execution_count": 7,
   "id": "66542593",
   "metadata": {},
   "outputs": [
    {
     "data": {
      "text/html": [
       "<div>\n",
       "<style scoped>\n",
       "    .dataframe tbody tr th:only-of-type {\n",
       "        vertical-align: middle;\n",
       "    }\n",
       "\n",
       "    .dataframe tbody tr th {\n",
       "        vertical-align: top;\n",
       "    }\n",
       "\n",
       "    .dataframe thead th {\n",
       "        text-align: right;\n",
       "    }\n",
       "</style>\n",
       "<table border=\"1\" class=\"dataframe\">\n",
       "  <thead>\n",
       "    <tr style=\"text-align: right;\">\n",
       "      <th></th>\n",
       "      <th>Unnamed: 0</th>\n",
       "      <th>Year</th>\n",
       "      <th>Player</th>\n",
       "      <th>Pos</th>\n",
       "      <th>Age</th>\n",
       "      <th>Tm</th>\n",
       "      <th>G</th>\n",
       "      <th>GS</th>\n",
       "      <th>MP</th>\n",
       "      <th>PER</th>\n",
       "      <th>...</th>\n",
       "      <th>FT%</th>\n",
       "      <th>ORB</th>\n",
       "      <th>DRB</th>\n",
       "      <th>TRB</th>\n",
       "      <th>AST</th>\n",
       "      <th>STL</th>\n",
       "      <th>BLK</th>\n",
       "      <th>TOV</th>\n",
       "      <th>PF</th>\n",
       "      <th>PTS</th>\n",
       "    </tr>\n",
       "  </thead>\n",
       "  <tbody>\n",
       "    <tr>\n",
       "      <th>0</th>\n",
       "      <td>0</td>\n",
       "      <td>1950.0</td>\n",
       "      <td>Curly Armstrong</td>\n",
       "      <td>G-F</td>\n",
       "      <td>31.0</td>\n",
       "      <td>FTW</td>\n",
       "      <td>63.0</td>\n",
       "      <td>NaN</td>\n",
       "      <td>NaN</td>\n",
       "      <td>NaN</td>\n",
       "      <td>...</td>\n",
       "      <td>0.705</td>\n",
       "      <td>NaN</td>\n",
       "      <td>NaN</td>\n",
       "      <td>NaN</td>\n",
       "      <td>176.0</td>\n",
       "      <td>NaN</td>\n",
       "      <td>NaN</td>\n",
       "      <td>NaN</td>\n",
       "      <td>217.0</td>\n",
       "      <td>458.0</td>\n",
       "    </tr>\n",
       "    <tr>\n",
       "      <th>1</th>\n",
       "      <td>1</td>\n",
       "      <td>1950.0</td>\n",
       "      <td>Cliff Barker</td>\n",
       "      <td>SG</td>\n",
       "      <td>29.0</td>\n",
       "      <td>INO</td>\n",
       "      <td>49.0</td>\n",
       "      <td>NaN</td>\n",
       "      <td>NaN</td>\n",
       "      <td>NaN</td>\n",
       "      <td>...</td>\n",
       "      <td>0.708</td>\n",
       "      <td>NaN</td>\n",
       "      <td>NaN</td>\n",
       "      <td>NaN</td>\n",
       "      <td>109.0</td>\n",
       "      <td>NaN</td>\n",
       "      <td>NaN</td>\n",
       "      <td>NaN</td>\n",
       "      <td>99.0</td>\n",
       "      <td>279.0</td>\n",
       "    </tr>\n",
       "    <tr>\n",
       "      <th>2</th>\n",
       "      <td>2</td>\n",
       "      <td>1950.0</td>\n",
       "      <td>Leo Barnhorst</td>\n",
       "      <td>SF</td>\n",
       "      <td>25.0</td>\n",
       "      <td>CHS</td>\n",
       "      <td>67.0</td>\n",
       "      <td>NaN</td>\n",
       "      <td>NaN</td>\n",
       "      <td>NaN</td>\n",
       "      <td>...</td>\n",
       "      <td>0.698</td>\n",
       "      <td>NaN</td>\n",
       "      <td>NaN</td>\n",
       "      <td>NaN</td>\n",
       "      <td>140.0</td>\n",
       "      <td>NaN</td>\n",
       "      <td>NaN</td>\n",
       "      <td>NaN</td>\n",
       "      <td>192.0</td>\n",
       "      <td>438.0</td>\n",
       "    </tr>\n",
       "    <tr>\n",
       "      <th>3</th>\n",
       "      <td>3</td>\n",
       "      <td>1950.0</td>\n",
       "      <td>Ed Bartels</td>\n",
       "      <td>F</td>\n",
       "      <td>24.0</td>\n",
       "      <td>TOT</td>\n",
       "      <td>15.0</td>\n",
       "      <td>NaN</td>\n",
       "      <td>NaN</td>\n",
       "      <td>NaN</td>\n",
       "      <td>...</td>\n",
       "      <td>0.559</td>\n",
       "      <td>NaN</td>\n",
       "      <td>NaN</td>\n",
       "      <td>NaN</td>\n",
       "      <td>20.0</td>\n",
       "      <td>NaN</td>\n",
       "      <td>NaN</td>\n",
       "      <td>NaN</td>\n",
       "      <td>29.0</td>\n",
       "      <td>63.0</td>\n",
       "    </tr>\n",
       "    <tr>\n",
       "      <th>4</th>\n",
       "      <td>4</td>\n",
       "      <td>1950.0</td>\n",
       "      <td>Ed Bartels</td>\n",
       "      <td>F</td>\n",
       "      <td>24.0</td>\n",
       "      <td>DNN</td>\n",
       "      <td>13.0</td>\n",
       "      <td>NaN</td>\n",
       "      <td>NaN</td>\n",
       "      <td>NaN</td>\n",
       "      <td>...</td>\n",
       "      <td>0.548</td>\n",
       "      <td>NaN</td>\n",
       "      <td>NaN</td>\n",
       "      <td>NaN</td>\n",
       "      <td>20.0</td>\n",
       "      <td>NaN</td>\n",
       "      <td>NaN</td>\n",
       "      <td>NaN</td>\n",
       "      <td>27.0</td>\n",
       "      <td>59.0</td>\n",
       "    </tr>\n",
       "  </tbody>\n",
       "</table>\n",
       "<p>5 rows × 53 columns</p>\n",
       "</div>"
      ],
      "text/plain": [
       "   Unnamed: 0    Year           Player  Pos   Age   Tm     G  GS  MP  PER  \\\n",
       "0           0  1950.0  Curly Armstrong  G-F  31.0  FTW  63.0 NaN NaN  NaN   \n",
       "1           1  1950.0     Cliff Barker   SG  29.0  INO  49.0 NaN NaN  NaN   \n",
       "2           2  1950.0    Leo Barnhorst   SF  25.0  CHS  67.0 NaN NaN  NaN   \n",
       "3           3  1950.0       Ed Bartels    F  24.0  TOT  15.0 NaN NaN  NaN   \n",
       "4           4  1950.0       Ed Bartels    F  24.0  DNN  13.0 NaN NaN  NaN   \n",
       "\n",
       "   ...    FT%  ORB  DRB  TRB    AST  STL  BLK  TOV     PF    PTS  \n",
       "0  ...  0.705  NaN  NaN  NaN  176.0  NaN  NaN  NaN  217.0  458.0  \n",
       "1  ...  0.708  NaN  NaN  NaN  109.0  NaN  NaN  NaN   99.0  279.0  \n",
       "2  ...  0.698  NaN  NaN  NaN  140.0  NaN  NaN  NaN  192.0  438.0  \n",
       "3  ...  0.559  NaN  NaN  NaN   20.0  NaN  NaN  NaN   29.0   63.0  \n",
       "4  ...  0.548  NaN  NaN  NaN   20.0  NaN  NaN  NaN   27.0   59.0  \n",
       "\n",
       "[5 rows x 53 columns]"
      ]
     },
     "execution_count": 7,
     "metadata": {},
     "output_type": "execute_result"
    }
   ],
   "source": [
    "seasons_stats = pd.read_csv('HW8 visualisation/Seasons_Stats.csv')\n",
    "seasons_stats.head()"
   ]
  },
  {
   "cell_type": "code",
   "execution_count": 33,
   "id": "e5fa901f",
   "metadata": {},
   "outputs": [
    {
     "name": "stdout",
     "output_type": "stream",
     "text": [
      "(24691, 53)\n"
     ]
    }
   ],
   "source": [
    "print(seasons_stats.shape)"
   ]
  },
  {
   "cell_type": "code",
   "execution_count": 34,
   "id": "86c884a7",
   "metadata": {},
   "outputs": [
    {
     "name": "stdout",
     "output_type": "stream",
     "text": [
      "<class 'pandas.core.frame.DataFrame'>\n",
      "RangeIndex: 24691 entries, 0 to 24690\n",
      "Data columns (total 53 columns):\n",
      " #   Column      Non-Null Count  Dtype  \n",
      "---  ------      --------------  -----  \n",
      " 0   Unnamed: 0  24691 non-null  int64  \n",
      " 1   Year        24624 non-null  float64\n",
      " 2   Player      24624 non-null  object \n",
      " 3   Pos         24624 non-null  object \n",
      " 4   Age         24616 non-null  float64\n",
      " 5   Tm          24624 non-null  object \n",
      " 6   G           24624 non-null  float64\n",
      " 7   GS          18233 non-null  float64\n",
      " 8   MP          24138 non-null  float64\n",
      " 9   PER         24101 non-null  float64\n",
      " 10  TS%         24538 non-null  float64\n",
      " 11  3PAr        18839 non-null  float64\n",
      " 12  FTr         24525 non-null  float64\n",
      " 13  ORB%        20792 non-null  float64\n",
      " 14  DRB%        20792 non-null  float64\n",
      " 15  TRB%        21571 non-null  float64\n",
      " 16  AST%        22555 non-null  float64\n",
      " 17  STL%        20792 non-null  float64\n",
      " 18  BLK%        20792 non-null  float64\n",
      " 19  TOV%        19582 non-null  float64\n",
      " 20  USG%        19640 non-null  float64\n",
      " 21  blanl       0 non-null      float64\n",
      " 22  OWS         24585 non-null  float64\n",
      " 23  DWS         24585 non-null  float64\n",
      " 24  WS          24585 non-null  float64\n",
      " 25  WS/48       24101 non-null  float64\n",
      " 26  blank2      0 non-null      float64\n",
      " 27  OBPM        20797 non-null  float64\n",
      " 28  DBPM        20797 non-null  float64\n",
      " 29  BPM         20797 non-null  float64\n",
      " 30  VORP        20797 non-null  float64\n",
      " 31  FG          24624 non-null  float64\n",
      " 32  FGA         24624 non-null  float64\n",
      " 33  FG%         24525 non-null  float64\n",
      " 34  3P          18927 non-null  float64\n",
      " 35  3PA         18927 non-null  float64\n",
      " 36  3P%         15416 non-null  float64\n",
      " 37  2P          24624 non-null  float64\n",
      " 38  2PA         24624 non-null  float64\n",
      " 39  2P%         24496 non-null  float64\n",
      " 40  eFG%        24525 non-null  float64\n",
      " 41  FT          24624 non-null  float64\n",
      " 42  FTA         24624 non-null  float64\n",
      " 43  FT%         23766 non-null  float64\n",
      " 44  ORB         20797 non-null  float64\n",
      " 45  DRB         20797 non-null  float64\n",
      " 46  TRB         24312 non-null  float64\n",
      " 47  AST         24624 non-null  float64\n",
      " 48  STL         20797 non-null  float64\n",
      " 49  BLK         20797 non-null  float64\n",
      " 50  TOV         19645 non-null  float64\n",
      " 51  PF          24624 non-null  float64\n",
      " 52  PTS         24624 non-null  float64\n",
      "dtypes: float64(49), int64(1), object(3)\n",
      "memory usage: 10.0+ MB\n"
     ]
    }
   ],
   "source": [
    "seasons_stats.info()"
   ]
  },
  {
   "cell_type": "code",
   "execution_count": 21,
   "id": "67ce7789",
   "metadata": {},
   "outputs": [],
   "source": [
    "import seaborn as sns\n",
    "\n",
    "from pylab import rcParams\n",
    "rcParams['figure.figsize'] = 12,9"
   ]
  },
  {
   "cell_type": "markdown",
   "id": "25dd29e3",
   "metadata": {},
   "source": [
    "Построим график распределения процента попадания трехочковых бросков c 2000 года. Используемые данные - столбец 3P%, численные непрерывные."
   ]
  },
  {
   "cell_type": "code",
   "execution_count": 22,
   "id": "d38041a2",
   "metadata": {},
   "outputs": [
    {
     "name": "stderr",
     "output_type": "stream",
     "text": [
      "/var/folders/l8/px530y897nvcczrvsp9vx16m0000gn/T/ipykernel_1661/2395816823.py:2: UserWarning:\n",
      "\n",
      "Boolean Series key will be reindexed to match DataFrame index.\n",
      "\n"
     ]
    }
   ],
   "source": [
    "df = seasons_stats[seasons_stats['Year'] >= 2000]\n",
    "df = df[seasons_stats['3P%'] > 0]\n"
   ]
  },
  {
   "cell_type": "code",
   "execution_count": 23,
   "id": "04f5a098",
   "metadata": {},
   "outputs": [
    {
     "name": "stderr",
     "output_type": "stream",
     "text": [
      "/Users/iriska/opt/anaconda3/lib/python3.9/site-packages/seaborn/distributions.py:2619: FutureWarning:\n",
      "\n",
      "`distplot` is a deprecated function and will be removed in a future version. Please adapt your code to use either `displot` (a figure-level function with similar flexibility) or `histplot` (an axes-level function for histograms).\n",
      "\n"
     ]
    },
    {
     "data": {
      "text/plain": [
       "<AxesSubplot:xlabel='3P%', ylabel='Density'>"
      ]
     },
     "execution_count": 23,
     "metadata": {},
     "output_type": "execute_result"
    },
    {
     "data": {
      "image/png": "[encoded data removed]",
      "text/plain": [
       "<Figure size 864x648 with 1 Axes>"
      ]
     },
     "metadata": {
      "needs_background": "light"
     },
     "output_type": "display_data"
    }
   ],
   "source": [
    "sns.distplot(df['3P%'])"
   ]
  },
  {
   "cell_type": "markdown",
   "id": "e701f028",
   "metadata": {},
   "source": [
    "На графике видно, что у очень малого числа игроков процент реализации трехочковых приближается к единице."
   ]
  },
  {
   "cell_type": "code",
   "execution_count": null,
   "id": "ad45c778",
   "metadata": {},
   "outputs": [],
   "source": []
  },
  {
   "cell_type": "code",
   "execution_count": null,
   "id": "e6184806",
   "metadata": {},
   "outputs": [],
   "source": []
  },
  {
   "cell_type": "markdown",
   "id": "a2cc1c27",
   "metadata": {},
   "source": [
    "Построим график pairplot, он покажет взаимосвязь процента попадания трехочковых (3Р%) и количеством набранных очков в матче (PTS). PTS - численная непрерывная переменная."
   ]
  },
  {
   "cell_type": "code",
   "execution_count": 24,
   "id": "d0f17e0c",
   "metadata": {},
   "outputs": [
    {
     "data": {
      "text/plain": [
       "<seaborn.axisgrid.PairGrid at 0x7fb115a3a580>"
      ]
     },
     "execution_count": 24,
     "metadata": {},
     "output_type": "execute_result"
    },
    {
     "data": {
      "image/png": "[encoded data removed]",
      "text/plain": [
       "<Figure size 360x360 with 6 Axes>"
      ]
     },
     "metadata": {
      "needs_background": "light"
     },
     "output_type": "display_data"
    }
   ],
   "source": [
    "df_plot = sns.pairplot(\n",
    "    df[['3P%', 'PTS']])\n",
    "df_plot"
   ]
  },
  {
   "cell_type": "markdown",
   "id": "33ea9994",
   "metadata": {},
   "source": [
    "График показывает, что между трехочковыми и рузультативностью имеется сильная корреляция. Чем выше процент реализации трехочковых, тем выше количество набранных очков. Это показывает современную тенденцию трехочкового баскетбола."
   ]
  },
  {
   "cell_type": "code",
   "execution_count": null,
   "id": "ccd9bad2",
   "metadata": {},
   "outputs": [],
   "source": []
  },
  {
   "cell_type": "code",
   "execution_count": null,
   "id": "afe9dd78",
   "metadata": {},
   "outputs": [],
   "source": []
  },
  {
   "cell_type": "code",
   "execution_count": null,
   "id": "88bb52a5",
   "metadata": {},
   "outputs": [],
   "source": []
  },
  {
   "cell_type": "markdown",
   "id": "af9317ad",
   "metadata": {},
   "source": [
    "Построим боксплот распределения количества набранных очков (PTS) у 5 самых результативных игроков с 2000 по 2017 года. \n",
    "Player - качественные номинальные данные \n",
    "PTS - численные непрерывные данные"
   ]
  },
  {
   "cell_type": "code",
   "execution_count": 19,
   "id": "3f347c62",
   "metadata": {},
   "outputs": [
    {
     "data": {
      "text/plain": [
       "array(['Kobe Bryant', 'Dirk Nowitzki', 'LeBron James', 'Vince Carter',\n",
       "       'Carmelo Anthony'], dtype=object)"
      ]
     },
     "execution_count": 19,
     "metadata": {},
     "output_type": "execute_result"
    }
   ],
   "source": [
    "top_players = df.groupby('Player')[['PTS']].sum()\\\n",
    "    .sort_values('PTS', ascending=False).head(5).index.values\n",
    "    \n",
    "top_players"
   ]
  },
  {
   "cell_type": "code",
   "execution_count": 25,
   "id": "8a252ece",
   "metadata": {},
   "outputs": [
    {
     "data": {
      "text/plain": [
       "<AxesSubplot:xlabel='Player', ylabel='PTS'>"
      ]
     },
     "execution_count": 25,
     "metadata": {},
     "output_type": "execute_result"
    },
    {
     "data": {
      "image/png": "[encoded data removed]",
      "text/plain": [
       "<Figure size 864x648 with 1 Axes>"
      ]
     },
     "metadata": {
      "needs_background": "light"
     },
     "output_type": "display_data"
    }
   ],
   "source": [
    "sns.boxplot(x=\"Player\", y=\"PTS\", \n",
    "            data=seasons_stats[seasons_stats.Player.isin(top_players)])"
   ]
  },
  {
   "cell_type": "markdown",
   "id": "90067fe7",
   "metadata": {},
   "source": [
    "График показывает, что у всех игроков основные показатели сильно разнятся: медианы, межквартильные размахи, значения крайних квартилей"
   ]
  },
  {
   "cell_type": "code",
   "execution_count": null,
   "id": "dd81d83f",
   "metadata": {},
   "outputs": [],
   "source": []
  },
  {
   "cell_type": "code",
   "execution_count": null,
   "id": "a6f43cf5",
   "metadata": {},
   "outputs": [],
   "source": []
  },
  {
   "cell_type": "code",
   "execution_count": null,
   "id": "1f2b8298",
   "metadata": {},
   "outputs": [],
   "source": []
  }
 ],
 "metadata": {
  "kernelspec": {
   "display_name": "Python 3 (ipykernel)",
   "language": "python",
   "name": "python3"
  },
  "language_info": {
   "codemirror_mode": {
    "name": "ipython",
    "version": 3
   },
   "file_extension": ".py",
   "mimetype": "text/x-python",
   "name": "python",
   "nbconvert_exporter": "python",
   "pygments_lexer": "ipython3",
   "version": "3.9.12"
  }
 },
 "nbformat": 4,
 "nbformat_minor": 5
}
